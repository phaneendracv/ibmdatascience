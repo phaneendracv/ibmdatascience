{
 "cells": [
  {
   "cell_type": "markdown",
   "metadata": {},
   "source": [
    "<center>\n",
    "    <img src=\"https://cf-courses-data.s3.us.cloud-object-storage.appdomain.cloud/IBMDeveloperSkillsNetwork-DS0105EN-SkillsNetwork/labs/Module2/images/SN_web_lightmode.png\" width=\"300\" alt=\"cognitiveclass.ai logo\">\n",
    "</center>\n"
   ]
  },
  {
   "cell_type": "markdown",
   "metadata": {},
   "source": [
    "#### Add your code below following the instructions given in the course\n"
   ]
  },
  {
   "cell_type": "markdown",
   "metadata": {},
   "source": [
    "Jupyter lab Test"
   ]
  },
  {
   "cell_type": "markdown",
   "metadata": {},
   "source": [
    "Introduction to Jupyter lab and Assignment"
   ]
  },
  {
   "cell_type": "markdown",
   "metadata": {},
   "source": [
    "List of Data Science Languages:\n",
    "\n",
    "1. Python\n",
    "2. R\n",
    "3. Julia\n",
    "4. Scala"
   ]
  },
  {
   "cell_type": "markdown",
   "metadata": {},
   "source": [
    "List of Data Science Libraries\n",
    "\n",
    "1. Numpy\n",
    "2. Pandas\n",
    "3. Scikit-learn\n",
    "4. Matplotlib\n",
    "5. Seaborn"
   ]
  },
  {
   "cell_type": "markdown",
   "metadata": {},
   "source": [
    "List of Data Science Tools\n",
    "\n",
    "| ID | Library Name |\n",
    "|----|--------------|\n",
    "| 1  |   Jupyter     |\n",
    "| 2  | Spyder |\n",
    "| 3  | Visual Studio Code   |\n",
    "| 4  |   R Studio Code    |"
   ]
  },
  {
   "cell_type": "markdown",
   "metadata": {},
   "source": [
    "Addition in Python:\n",
    "\n",
    "a = 10\n",
    "b = 20\n",
    "\n",
    "add = a+b"
   ]
  },
  {
   "cell_type": "code",
   "execution_count": 3,
   "metadata": {
    "tags": []
   },
   "outputs": [
    {
     "name": "stdout",
     "output_type": "stream",
     "text": [
      "30\n",
      "200\n"
     ]
    }
   ],
   "source": [
    "a = 10\n",
    "b = 20\n",
    "add = a + b\n",
    "mul = a*b\n",
    "print(add)\n",
    "print(mul)"
   ]
  },
  {
   "cell_type": "code",
   "execution_count": 9,
   "metadata": {
    "tags": []
   },
   "outputs": [
    {
     "data": {
      "text/plain": [
       "1.08"
      ]
     },
     "execution_count": 9,
     "metadata": {},
     "output_type": "execute_result"
    }
   ],
   "source": [
    "mins = 65\n",
    "hours = mins/60\n",
    "round(hours,2)"
   ]
  },
  {
   "cell_type": "markdown",
   "metadata": {},
   "source": [
    "List of Objectives\n",
    "\n",
    "\n",
    "1. Create a markdown cell with the title of the notebook. (1 pt)\n",
    "\n",
    "2. Create a markdown cell for an introduction. (1 pt)\n",
    "\n",
    "3.  Create a markdown cell to list data science languages. (3 pts)\n",
    "\n",
    "4. Create a markdown cell to list data science libraries. (3 pts)\n",
    "\n",
    "5. Create a markdown cell with a table of Data Science tools. (3 pts)\n",
    "\n",
    "6. Create a markdown cell introducing arithmetic expression examples. (1 pt)\n",
    "\n",
    "7. Create a code cell to multiply and add numbers. (2 pts)\n",
    "\n",
    "8. Create a code cell to convert minutes to hours. (2 pts)\n",
    "\n",
    "9. Insert a markdown cell to list Objectives. (3 pts)\n",
    "\n",
    "10. Create a markdown cell to indicate the Author’s name. (2 pts)\n",
    "\n",
    "11. Share your notebook through GitHub (3 pts)\n",
    "\n",
    "12. Take a screenshot of the first page of the notebook. (1 pt)"
   ]
  },
  {
   "cell_type": "markdown",
   "metadata": {},
   "source": [
    "Author - Venkata Phaneendra Kumar Challapalli"
   ]
  },
  {
   "cell_type": "code",
   "execution_count": null,
   "metadata": {},
   "outputs": [],
   "source": []
  }
 ],
 "metadata": {
  "kernelspec": {
   "display_name": "Python",
   "language": "python",
   "name": "conda-env-python-py"
  },
  "language_info": {
   "codemirror_mode": {
    "name": "ipython",
    "version": 3
   },
   "file_extension": ".py",
   "mimetype": "text/x-python",
   "name": "python",
   "nbconvert_exporter": "python",
   "pygments_lexer": "ipython3",
   "version": "3.7.12"
  }
 },
 "nbformat": 4,
 "nbformat_minor": 4
}
